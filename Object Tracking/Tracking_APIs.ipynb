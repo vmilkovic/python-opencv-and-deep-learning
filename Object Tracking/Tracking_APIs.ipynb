{
 "metadata": {
  "language_info": {
   "codemirror_mode": {
    "name": "ipython",
    "version": 3
   },
   "file_extension": ".py",
   "mimetype": "text/x-python",
   "name": "python",
   "nbconvert_exporter": "python",
   "pygments_lexer": "ipython3",
   "version": "3.9.2"
  },
  "orig_nbformat": 2,
  "kernelspec": {
   "name": "pythonjvsc74a57bd081d810ceb60ff58c5dd37d8520b083d7bd52d68afbee0ecb11dd8dd47607f9ff",
   "display_name": "Python 3.9.2  ('env': venv)"
  },
  "metadata": {
   "interpreter": {
    "hash": "81d810ceb60ff58c5dd37d8520b083d7bd52d68afbee0ecb11dd8dd47607f9ff"
   }
  }
 },
 "nbformat": 4,
 "nbformat_minor": 2,
 "cells": [
  {
   "cell_type": "code",
   "execution_count": 29,
   "metadata": {},
   "outputs": [],
   "source": [
    "import cv2"
   ]
  },
  {
   "cell_type": "code",
   "execution_count": 30,
   "metadata": {},
   "outputs": [],
   "source": [
    "def ask_for_tracker():\n",
    "    print(\"Welcome! What Tracker API would you like to use?\")\n",
    "    print(\"Enter 0 for BOOSTING: \")\n",
    "    print(\"Enter 1 for MIL: \")\n",
    "    print(\"Enter 2 for KCF: \")\n",
    "    print(\"Enter 3 for TLD: \")\n",
    "    print(\"Enter 4 for MEDIANFLOW: \")\n",
    "    choice = input(\"Please select your tracker: \")\n",
    "\n",
    "    if choice == '0':\n",
    "        tracker = cv2.legacy.TrackerBoosting_create()\n",
    "    if choice == '1':\n",
    "        tracker = cv2.legacy.TrackerMIL_create()\n",
    "    if choice == '2':\n",
    "        tracker = cv2.legacy.TrackerKCF_create()\n",
    "    if choice == '3':\n",
    "        tracker = cv2.legacy.TrackerTLD_create()\n",
    "    if choice == '4':\n",
    "        tracker = cv2.legacy.TrackerMedianFlow_create()\n",
    "\n",
    "\n",
    "    return tracker"
   ]
  },
  {
   "cell_type": "code",
   "execution_count": 31,
   "metadata": {},
   "outputs": [
    {
     "output_type": "stream",
     "name": "stdout",
     "text": [
      "Welcome! What Tracker API would you like to use?\nEnter 0 for BOOSTING: \nEnter 1 for MIL: \nEnter 2 for KCF: \nEnter 3 for TLD: \nEnter 4 for MEDIANFLOW: \n"
     ]
    }
   ],
   "source": [
    "tracker = ask_for_tracker()\n",
    "tracker_name = str(tracker).split()[0][1:]\n",
    "\n",
    "cap = cv2.VideoCapture(0)\n",
    "\n",
    "ret, frame = cap.read()\n",
    "\n",
    "# Special function allows us to draw on the very first frame our desired ROI\n",
    "roi = cv2.selectROI(frame, False)\n",
    "\n",
    "# Initialize tracker with first frame and bounding box\n",
    "ret = tracker.init(frame, roi)\n",
    "\n",
    "while True:\n",
    "\n",
    "    ret, frame = cap.read()\n",
    "\n",
    "    success, roi = tracker.update(frame)\n",
    "    \n",
    "    (x,y,w,h) = tuple(map(int,roi))\n",
    "    \n",
    "\n",
    "    if success:\n",
    "        p1 = (x, y)\n",
    "        p2 = (x+w, y+h)\n",
    "        cv2.rectangle(frame, p1, p2, (0,255,0), 3)\n",
    "    else :\n",
    "        cv2.putText(frame, \"Failure to Detect Tracking!!\", (100,200), cv2.FONT_HERSHEY_SIMPLEX, 1,(0,0,255),3)\n",
    "\n",
    "    \n",
    "    cv2.putText(frame, tracker_name, (20,400), cv2.FONT_HERSHEY_SIMPLEX, 1, (0,255,0),3);\n",
    "\n",
    "    cv2.imshow(tracker_name, frame)\n",
    "\n",
    "    k = cv2.waitKey(1) & 0xff\n",
    "    if k == 27 : \n",
    "        break\n",
    "        \n",
    "cap.release()\n",
    "cv2.destroyAllWindows()"
   ]
  }
 ]
}